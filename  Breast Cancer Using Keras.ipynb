{
 "cells": [
  {
   "cell_type": "code",
   "execution_count": 20,
   "metadata": {},
   "outputs": [],
   "source": [
    "from keras.models import Sequential\n",
    "from keras.layers import Dense"
   ]
  },
  {
   "cell_type": "code",
   "execution_count": 21,
   "metadata": {},
   "outputs": [],
   "source": [
    "# Creating a model\n",
    "model=Sequential()"
   ]
  },
  {
   "cell_type": "code",
   "execution_count": 22,
   "metadata": {},
   "outputs": [],
   "source": [
    "# Building the Architecture \n",
    "layer1=Dense(units=32,activation='relu',input_dim=30)\n",
    "model.add(layer1) # Hidden layer 1,1st layer must contain the input dimensions\n",
    "model.add(Dense(units=16,activation='relu'))  # Hidden layer 2\n",
    "model.add(Dense(units=1,activation='sigmoid')) # Output layer"
   ]
  },
  {
   "cell_type": "code",
   "execution_count": 23,
   "metadata": {},
   "outputs": [],
   "source": [
    "# Compiling our Model\n",
    "model.compile(optimizer='adam',loss='binary_crossentropy',metrics=['accuracy'])\n",
    "# Here the loss is binary because we have only 2 outputs with us\n",
    "# Metrics is going to be the accuracy of our test data"
   ]
  },
  {
   "cell_type": "code",
   "execution_count": 24,
   "metadata": {},
   "outputs": [
    {
     "data": {
      "text/plain": [
       "array([[-0.46052013, -0.55879814, -0.52949565, ..., -1.28994398,\n",
       "        -1.59591888, -1.34918414],\n",
       "       [-0.53591337, -0.31868234, -0.54203714, ..., -0.86282064,\n",
       "        -0.77795618, -0.3783678 ],\n",
       "       [-0.16453187,  0.67674918, -0.19330284, ...,  0.202746  ,\n",
       "        -0.0247826 , -0.81704497],\n",
       "       ...,\n",
       "       [ 0.89935045, -0.54014836,  0.86220503, ...,  1.06207393,\n",
       "         0.40768481, -0.17091456],\n",
       "       [-1.34345869, -1.52159255, -1.22170491, ..., -0.18133623,\n",
       "         0.245712  ,  2.20993551],\n",
       "       [ 1.97719449,  0.84925956,  1.84125028, ...,  1.2892354 ,\n",
       "        -0.10414928, -0.4880371 ]])"
      ]
     },
     "execution_count": 24,
     "metadata": {},
     "output_type": "execute_result"
    }
   ],
   "source": [
    "import sklearn \n",
    "from sklearn import model_selection\n",
    "from sklearn import datasets\n",
    "cancer=datasets.load_breast_cancer()\n",
    "X_Train,X_Test,Y_Train,Y_Test=model_selection.train_test_split(cancer.data,cancer.target)\n",
    "from sklearn.preprocessing import StandardScaler\n",
    "sc=StandardScaler()\n",
    "sc.fit_transform(X_Train)\n",
    "sc.transform(X_Test)"
   ]
  },
  {
   "cell_type": "code",
   "execution_count": 25,
   "metadata": {},
   "outputs": [
    {
     "name": "stdout",
     "output_type": "stream",
     "text": [
      "Train on 426 samples, validate on 143 samples\n",
      "Epoch 1/20\n",
      "426/426 [==============================] - 0s 335us/step - loss: 4.0495 - accuracy: 0.5728 - val_loss: 4.1432 - val_accuracy: 0.6853\n",
      "Epoch 2/20\n",
      "426/426 [==============================] - 0s 30us/step - loss: 2.3261 - accuracy: 0.6878 - val_loss: 2.2754 - val_accuracy: 0.7552\n",
      "Epoch 3/20\n",
      "426/426 [==============================] - 0s 37us/step - loss: 1.2851 - accuracy: 0.7653 - val_loss: 1.2003 - val_accuracy: 0.7972\n",
      "Epoch 4/20\n",
      "426/426 [==============================] - 0s 42us/step - loss: 0.8617 - accuracy: 0.8239 - val_loss: 0.7155 - val_accuracy: 0.8392\n",
      "Epoch 5/20\n",
      "426/426 [==============================] - 0s 52us/step - loss: 0.5712 - accuracy: 0.8756 - val_loss: 0.3800 - val_accuracy: 0.8741\n",
      "Epoch 6/20\n",
      "426/426 [==============================] - 0s 47us/step - loss: 0.3987 - accuracy: 0.8920 - val_loss: 0.2865 - val_accuracy: 0.8951\n",
      "Epoch 7/20\n",
      "426/426 [==============================] - 0s 44us/step - loss: 0.3531 - accuracy: 0.8944 - val_loss: 0.2352 - val_accuracy: 0.8951\n",
      "Epoch 8/20\n",
      "426/426 [==============================] - 0s 52us/step - loss: 0.3508 - accuracy: 0.8944 - val_loss: 0.2108 - val_accuracy: 0.9161\n",
      "Epoch 9/20\n",
      "426/426 [==============================] - 0s 44us/step - loss: 0.3369 - accuracy: 0.8944 - val_loss: 0.2143 - val_accuracy: 0.9161\n",
      "Epoch 10/20\n",
      "426/426 [==============================] - 0s 40us/step - loss: 0.3681 - accuracy: 0.8897 - val_loss: 0.1973 - val_accuracy: 0.9371\n",
      "Epoch 11/20\n",
      "426/426 [==============================] - 0s 44us/step - loss: 0.3365 - accuracy: 0.9014 - val_loss: 0.3807 - val_accuracy: 0.8531\n",
      "Epoch 12/20\n",
      "426/426 [==============================] - 0s 44us/step - loss: 0.3340 - accuracy: 0.9014 - val_loss: 0.2002 - val_accuracy: 0.9231\n",
      "Epoch 13/20\n",
      "426/426 [==============================] - 0s 49us/step - loss: 0.2863 - accuracy: 0.9108 - val_loss: 0.2787 - val_accuracy: 0.8951\n",
      "Epoch 14/20\n",
      "426/426 [==============================] - 0s 44us/step - loss: 0.3148 - accuracy: 0.9038 - val_loss: 0.2005 - val_accuracy: 0.9231\n",
      "Epoch 15/20\n",
      "426/426 [==============================] - 0s 42us/step - loss: 0.2864 - accuracy: 0.8991 - val_loss: 0.2010 - val_accuracy: 0.9301\n",
      "Epoch 16/20\n",
      "426/426 [==============================] - 0s 49us/step - loss: 0.2705 - accuracy: 0.9085 - val_loss: 0.2842 - val_accuracy: 0.9231\n",
      "Epoch 17/20\n",
      "426/426 [==============================] - 0s 42us/step - loss: 0.3155 - accuracy: 0.8897 - val_loss: 0.3387 - val_accuracy: 0.9161\n",
      "Epoch 18/20\n",
      "426/426 [==============================] - 0s 49us/step - loss: 0.2917 - accuracy: 0.9202 - val_loss: 0.2302 - val_accuracy: 0.9021\n",
      "Epoch 19/20\n",
      "426/426 [==============================] - 0s 47us/step - loss: 0.3078 - accuracy: 0.8850 - val_loss: 0.2165 - val_accuracy: 0.9091\n",
      "Epoch 20/20\n",
      "426/426 [==============================] - 0s 42us/step - loss: 0.2570 - accuracy: 0.9131 - val_loss: 0.1898 - val_accuracy: 0.9371\n"
     ]
    },
    {
     "data": {
      "text/plain": [
       "<keras.callbacks.callbacks.History at 0x1e04425a208>"
      ]
     },
     "execution_count": 25,
     "metadata": {},
     "output_type": "execute_result"
    }
   ],
   "source": [
    "# Fitting the data in our model\n",
    "model.fit(X_Train,Y_Train,epochs=20,batch_size=50,validation_data=(X_Test,Y_Test))\n",
    "# Validation data will tess us what is the accuracy looking like after every epoch/iteration\n",
    "# As we can see in the end the accuracy of our testing data=93.71% and for training data=91.31%"
   ]
  },
  {
   "cell_type": "code",
   "execution_count": 27,
   "metadata": {},
   "outputs": [
    {
     "data": {
      "text/plain": [
       "array([[9.9904716e-01],\n",
       "       [9.9233425e-01],\n",
       "       [9.4324851e-01],\n",
       "       [9.8484147e-01],\n",
       "       [9.7456813e-01],\n",
       "       [4.0829182e-05],\n",
       "       [9.9283791e-01],\n",
       "       [8.5313749e-01],\n",
       "       [8.7294447e-01],\n",
       "       [2.8277487e-01],\n",
       "       [9.9474156e-01],\n",
       "       [9.9760127e-01],\n",
       "       [7.8023458e-01],\n",
       "       [9.9140555e-01],\n",
       "       [9.9878728e-01],\n",
       "       [8.9406967e-08],\n",
       "       [9.8152626e-01],\n",
       "       [4.6026707e-04],\n",
       "       [4.2757392e-04],\n",
       "       [9.2300731e-01],\n",
       "       [0.0000000e+00],\n",
       "       [9.9214965e-01],\n",
       "       [9.0528190e-01],\n",
       "       [5.4601240e-01],\n",
       "       [9.8934227e-01],\n",
       "       [9.8928034e-01],\n",
       "       [9.9666625e-01],\n",
       "       [2.2408491e-01],\n",
       "       [0.0000000e+00],\n",
       "       [0.0000000e+00],\n",
       "       [2.5112808e-02],\n",
       "       [1.1062807e-01],\n",
       "       [8.4728122e-01],\n",
       "       [9.9910641e-01],\n",
       "       [8.9406967e-08],\n",
       "       [1.3966587e-01],\n",
       "       [9.9348384e-01],\n",
       "       [9.0232968e-01],\n",
       "       [9.9457216e-01],\n",
       "       [9.8642594e-01],\n",
       "       [9.9742270e-01],\n",
       "       [0.0000000e+00],\n",
       "       [1.5154779e-03],\n",
       "       [8.5074615e-01],\n",
       "       [9.2689073e-01],\n",
       "       [0.0000000e+00],\n",
       "       [6.8900847e-01],\n",
       "       [8.8126183e-01],\n",
       "       [9.9572563e-01],\n",
       "       [9.9001646e-01],\n",
       "       [0.0000000e+00],\n",
       "       [9.3255639e-03],\n",
       "       [9.9374878e-01],\n",
       "       [3.1123582e-01],\n",
       "       [0.0000000e+00],\n",
       "       [0.0000000e+00],\n",
       "       [1.1622906e-06],\n",
       "       [5.4177672e-01],\n",
       "       [0.0000000e+00],\n",
       "       [0.0000000e+00],\n",
       "       [9.5632899e-01],\n",
       "       [9.9455428e-01],\n",
       "       [3.8444996e-06],\n",
       "       [4.9938679e-02],\n",
       "       [2.0861626e-07],\n",
       "       [6.9693124e-01],\n",
       "       [0.0000000e+00],\n",
       "       [0.0000000e+00],\n",
       "       [7.6053202e-02],\n",
       "       [9.7140127e-01],\n",
       "       [8.6426735e-07],\n",
       "       [9.8141623e-01],\n",
       "       [8.4197009e-01],\n",
       "       [9.9664962e-01],\n",
       "       [3.2255471e-01],\n",
       "       [9.9636066e-01],\n",
       "       [0.0000000e+00],\n",
       "       [9.9878168e-01],\n",
       "       [9.7869289e-01],\n",
       "       [9.9312514e-01],\n",
       "       [9.9659061e-01],\n",
       "       [9.7508311e-01],\n",
       "       [4.6613216e-03],\n",
       "       [9.9843174e-01],\n",
       "       [9.8574066e-01],\n",
       "       [0.0000000e+00],\n",
       "       [9.3398583e-01],\n",
       "       [4.4900984e-01],\n",
       "       [8.2990408e-01],\n",
       "       [8.9397448e-01],\n",
       "       [9.5943826e-01],\n",
       "       [9.9276805e-01],\n",
       "       [9.3877316e-05],\n",
       "       [9.9051380e-01],\n",
       "       [9.9431598e-01],\n",
       "       [9.7225755e-01],\n",
       "       [9.9109995e-01],\n",
       "       [1.7881393e-07],\n",
       "       [9.9502206e-01],\n",
       "       [9.4576931e-01],\n",
       "       [0.0000000e+00],\n",
       "       [0.0000000e+00],\n",
       "       [9.9742573e-01],\n",
       "       [1.9967556e-06],\n",
       "       [1.6659936e-01],\n",
       "       [1.6892105e-02],\n",
       "       [9.4878960e-01],\n",
       "       [7.9543871e-01],\n",
       "       [0.0000000e+00],\n",
       "       [7.6532364e-05],\n",
       "       [9.9465024e-01],\n",
       "       [0.0000000e+00],\n",
       "       [2.4412572e-02],\n",
       "       [4.6567023e-03],\n",
       "       [4.6125054e-04],\n",
       "       [9.7238374e-01],\n",
       "       [8.8180768e-01],\n",
       "       [8.7712049e-01],\n",
       "       [9.9852943e-01],\n",
       "       [1.9250405e-01],\n",
       "       [9.9405050e-01],\n",
       "       [6.6287017e-01],\n",
       "       [6.0256267e-01],\n",
       "       [0.0000000e+00],\n",
       "       [9.8737371e-01],\n",
       "       [9.9880123e-01],\n",
       "       [8.6279052e-01],\n",
       "       [9.9005282e-01],\n",
       "       [1.9818544e-04],\n",
       "       [7.4029791e-01],\n",
       "       [9.5383227e-01],\n",
       "       [9.3681955e-01],\n",
       "       [2.9488504e-03],\n",
       "       [9.4655704e-01],\n",
       "       [8.3386672e-01],\n",
       "       [9.9755776e-01],\n",
       "       [5.1360157e-06],\n",
       "       [9.8754102e-01],\n",
       "       [6.8375647e-01],\n",
       "       [9.7774464e-01],\n",
       "       [3.6870802e-03],\n",
       "       [9.9354786e-01],\n",
       "       [0.0000000e+00]], dtype=float32)"
      ]
     },
     "execution_count": 27,
     "metadata": {},
     "output_type": "execute_result"
    }
   ],
   "source": [
    "# Prediction\n",
    "Y_Pred=model.predict(X_Test)\n",
    "Y_Pred"
   ]
  },
  {
   "cell_type": "code",
   "execution_count": 28,
   "metadata": {},
   "outputs": [
    {
     "name": "stdout",
     "output_type": "stream",
     "text": [
      "143/143 [==============================] - 0s 42us/step\n"
     ]
    },
    {
     "data": {
      "text/plain": [
       "[0.18977537396904473, 0.9370629191398621]"
      ]
     },
     "execution_count": 28,
     "metadata": {},
     "output_type": "execute_result"
    }
   ],
   "source": [
    "# Evaluation\n",
    "score=model.evaluate(X_Test,Y_Test)\n",
    "score \n",
    "# Here we have got 2 parameters 1 is the loss that we have encountered and second is basically the metric that we passed during \n",
    "# the compile function i.e the accuracy of our test data"
   ]
  }
 ],
 "metadata": {
  "kernelspec": {
   "display_name": "Python 3",
   "language": "python",
   "name": "python3"
  },
  "language_info": {
   "codemirror_mode": {
    "name": "ipython",
    "version": 3
   },
   "file_extension": ".py",
   "mimetype": "text/x-python",
   "name": "python",
   "nbconvert_exporter": "python",
   "pygments_lexer": "ipython3",
   "version": "3.7.3"
  }
 },
 "nbformat": 4,
 "nbformat_minor": 2
}
