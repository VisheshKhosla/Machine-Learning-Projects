{
 "cells": [
  {
   "cell_type": "code",
   "execution_count": 1,
   "metadata": {},
   "outputs": [],
   "source": [
    "import numpy as np"
   ]
  },
  {
   "cell_type": "code",
   "execution_count": 2,
   "metadata": {},
   "outputs": [],
   "source": [
    "def fit(X_Train,Y_Train):\n",
    "    result={}\n",
    "    classes=set(Y_Train)\n",
    "    for current_class in classes:\n",
    "        result[current_class]={}\n",
    "        result[\"Total_Counter\"]=len(Y_Train)\n",
    "        current=(Y_Train==current_class)\n",
    "        X_Train_current=X_Train[current]\n",
    "        Y_Train_current=Y_Train[current]\n",
    "        result[current_class][\"Total_Count\"]=len(Y_Train_current)\n",
    "        numfeatures=X_Train_current.shape[1]\n",
    "        for j in range(numfeatures):\n",
    "            result[current_class][j]={}\n",
    "            values=set(X_Train_current[:,j])\n",
    "            result[current_class][\"distinct\"]=len(values)\n",
    "            for current_value in values:\n",
    "                result[current_class][j][current_value]=(X_Train_current[:,j]==current_value).sum()\n",
    "    return result"
   ]
  },
  {
   "cell_type": "code",
   "execution_count": 3,
   "metadata": {},
   "outputs": [],
   "source": [
    "def probabilty(result,x,current_class):\n",
    "    prob1=np.log(result[current_class][\"Total_Count\"])-np.log(result[\"Total_Counter\"])\n",
    "    prob2=0\n",
    "    for i in range(len(x)):\n",
    "        if x[i] in result[current_class][i].keys():\n",
    "            prob2+=np.log(result[current_class][i][x[i]]+1)-np.log((result[current_class][\"Total_Count\"]+result[current_class][\"distinct\"]))\n",
    "        else:\n",
    "            prob2+=-np.log((result[current_class][\"Total_Count\"]+result[current_class][\"distinct\"]))\n",
    "    return prob1+prob2"
   ]
  },
  {
   "cell_type": "code",
   "execution_count": 4,
   "metadata": {},
   "outputs": [],
   "source": [
    "def predictSingle(result,x):\n",
    "    classes=result.keys() # We will also have Total_Count in thes keys and that is not a class\n",
    "    maxprob=-9999\n",
    "    bestclass=-1\n",
    "    for current_class in classes:\n",
    "        if current_class==\"Total_Counter\":\n",
    "            continue\n",
    "        prob=probabilty(result,x,current_class)\n",
    "        if prob>maxprob:\n",
    "            maxprob=prob\n",
    "            bestclass=current_class\n",
    "    return bestclass"
   ]
  },
  {
   "cell_type": "code",
   "execution_count": 5,
   "metadata": {},
   "outputs": [],
   "source": [
    "def predict(result,X_Test):\n",
    "    Y_Test_Pred=[]\n",
    "    for x in X_Test:\n",
    "        Y_Test_Pred.append(predictSingle(result,x))\n",
    "    return Y_Test_Pred\n",
    "        \n",
    "    "
   ]
  },
  {
   "cell_type": "code",
   "execution_count": 6,
   "metadata": {},
   "outputs": [],
   "source": [
    "from sklearn import datasets"
   ]
  },
  {
   "cell_type": "code",
   "execution_count": 7,
   "metadata": {},
   "outputs": [],
   "source": [
    "iris=datasets.load_iris()\n",
    "X=iris[\"data\"]\n",
    "Y=iris[\"target\"]"
   ]
  },
  {
   "cell_type": "code",
   "execution_count": 8,
   "metadata": {},
   "outputs": [],
   "source": [
    "from sklearn import model_selection"
   ]
  },
  {
   "cell_type": "code",
   "execution_count": 9,
   "metadata": {},
   "outputs": [],
   "source": [
    "X_Train,X_Test,Y_Train,Y_Test=model_selection.train_test_split(X,Y)"
   ]
  },
  {
   "cell_type": "code",
   "execution_count": 10,
   "metadata": {},
   "outputs": [],
   "source": [
    "def labelit(x):\n",
    "    meanval1=x.mean()\n",
    "    meanval2=(meanval1)*0.5\n",
    "    meanval3=(meanval1)*1.5\n",
    "    \n",
    "    for i in range(len(x)):\n",
    "        if(x[i]>=0 and x[i]<=meanval2):\n",
    "            x[i]=0\n",
    "        elif(x[i]>meanval2 and x[i]<=meanval1):\n",
    "            x[i]=1\n",
    "        elif(x[i]>meanval1 and x[i]<=meanval3):\n",
    "            x[i]=2\n",
    "        elif(x[i]>meanval3):\n",
    "            x[i]=3\n",
    "    return x"
   ]
  },
  {
   "cell_type": "code",
   "execution_count": 11,
   "metadata": {},
   "outputs": [],
   "source": [
    "for i in range(X_Train.shape[1]):\n",
    "    X_Train[:,i]=labelit(X_Train[:,i])\n",
    "                                       #Labelling my data\n",
    "for i in range(X_Test.shape[1]):\n",
    "    X_Test[:,i]=labelit(X_Test[:,i])\n"
   ]
  },
  {
   "cell_type": "code",
   "execution_count": 15,
   "metadata": {
    "scrolled": true
   },
   "outputs": [
    {
     "name": "stdout",
     "output_type": "stream",
     "text": [
      "[0, 0, 0, 2, 0, 2, 0, 2, 0, 1, 2, 1, 0, 0, 0, 0, 1, 2, 2, 0, 1, 2, 0, 1, 0, 1, 2, 1, 2, 2, 0, 2, 2, 1, 0, 0, 1, 1]\n",
      "[0 0 0 2 0 1 0 2 0 1 1 1 0 0 0 0 1 2 2 0 1 2 0 1 0 1 2 1 2 2 0 2 2 1 0 0 1\n",
      " 1]\n"
     ]
    }
   ],
   "source": [
    "result=fit(X_Train,Y_Train)\n",
    "Y_Pred=predict(result,X_Test)\n",
    "print(Y_Pred)\n",
    "print(Y_Test)"
   ]
  },
  {
   "cell_type": "code",
   "execution_count": 16,
   "metadata": {},
   "outputs": [],
   "source": [
    "from sklearn.metrics import confusion_matrix"
   ]
  },
  {
   "cell_type": "code",
   "execution_count": 18,
   "metadata": {},
   "outputs": [
    {
     "data": {
      "text/plain": [
       "array([[16,  0,  0],\n",
       "       [ 0, 10,  2],\n",
       "       [ 0,  0, 10]], dtype=int64)"
      ]
     },
     "execution_count": 18,
     "metadata": {},
     "output_type": "execute_result"
    }
   ],
   "source": [
    "confusion_matrix(Y_Test,Y_Pred) # My prediction was pretty good\n",
    "                                # Out of 38 enteries i only predicted 2 as wrong"
   ]
  },
  {
   "cell_type": "code",
   "execution_count": null,
   "metadata": {},
   "outputs": [],
   "source": []
  }
 ],
 "metadata": {
  "kernelspec": {
   "display_name": "Python 3",
   "language": "python",
   "name": "python3"
  },
  "language_info": {
   "codemirror_mode": {
    "name": "ipython",
    "version": 3
   },
   "file_extension": ".py",
   "mimetype": "text/x-python",
   "name": "python",
   "nbconvert_exporter": "python",
   "pygments_lexer": "ipython3",
   "version": "3.7.3"
  }
 },
 "nbformat": 4,
 "nbformat_minor": 2
}
