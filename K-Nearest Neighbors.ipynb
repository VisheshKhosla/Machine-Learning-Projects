{
 "cells": [
  {
   "cell_type": "code",
   "execution_count": 36,
   "metadata": {},
   "outputs": [],
   "source": [
    "from sklearn import datasets\n",
    "from sklearn.metrics import accuracy_score\n",
    "import numpy as np\n",
    "from collections import Counter"
   ]
  },
  {
   "cell_type": "code",
   "execution_count": 2,
   "metadata": {},
   "outputs": [],
   "source": [
    "breast_cancer=datasets.load_breast_cancer()\n",
    "X=breast_cancer.data\n",
    "Y=breast_cancer.target"
   ]
  },
  {
   "cell_type": "code",
   "execution_count": 3,
   "metadata": {},
   "outputs": [],
   "source": [
    "from sklearn import model_selection"
   ]
  },
  {
   "cell_type": "code",
   "execution_count": 4,
   "metadata": {},
   "outputs": [],
   "source": [
    "X_Train,X_Test,Y_Train,Y_Test=model_selection.train_test_split(X,Y)"
   ]
  },
  {
   "cell_type": "code",
   "execution_count": 41,
   "metadata": {},
   "outputs": [],
   "source": [
    "def Test_Single(X_Train,Y_Train,Single):\n",
    "    distance=[]\n",
    "    for i in range(len(X_Train)):\n",
    "        dist=0\n",
    "        for j in range(X_Train.shape[1]):\n",
    "            dist+=(X_Train[i][j]-Single[j])**2\n",
    "        dist=dist**0.5\n",
    "        x=(dist,Y_Train[i])\n",
    "        distance.append(x)\n",
    "    length=len(distance)\n",
    "    for i in range(length-1):\n",
    "        for j in range(length-i-1):\n",
    "            if distance[j][0]>distance[j+1][0]:\n",
    "                distance[j],distance[j+1]=distance[j+1],distance[j]\n",
    "\n",
    "    target=[]\n",
    "    for i in range(7):\n",
    "        target.append(distance[i][1])\n",
    "    return Counter(target).most_common(1)[0][0]\n",
    "    "
   ]
  },
  {
   "cell_type": "code",
   "execution_count": 30,
   "metadata": {},
   "outputs": [],
   "source": [
    "def Test(X_Train,Y_Train,X_Test):\n",
    "    predict=[]\n",
    "    for i in range(len(X_Test)):\n",
    "        predict.append(Test_Single(X_Train,Y_Train,X_Test[i]))\n",
    "    return predict"
   ]
  },
  {
   "cell_type": "code",
   "execution_count": 42,
   "metadata": {},
   "outputs": [
    {
     "data": {
      "text/plain": [
       "0.916083916083916"
      ]
     },
     "execution_count": 42,
     "metadata": {},
     "output_type": "execute_result"
    }
   ],
   "source": [
    "Y_Pred=Test(X_Train,Y_Train,X_Test)\n",
    "accuracy_score(Y_Pred,Y_Test)"
   ]
  },
  {
   "cell_type": "code",
   "execution_count": 38,
   "metadata": {},
   "outputs": [
    {
     "name": "stdout",
     "output_type": "stream",
     "text": [
      "Counter({0: 3, 1: 2, 2: 1})\n",
      "0\n"
     ]
    }
   ],
   "source": [
    "a=[1,0,0,0,1,2]\n",
    "print(Counter(a))\n",
    "print(Counter(a).most_common(1)[0][0]) #Gives us the most repeating element "
   ]
  }
 ],
 "metadata": {
  "kernelspec": {
   "display_name": "Python 3",
   "language": "python",
   "name": "python3"
  },
  "language_info": {
   "codemirror_mode": {
    "name": "ipython",
    "version": 3
   },
   "file_extension": ".py",
   "mimetype": "text/x-python",
   "name": "python",
   "nbconvert_exporter": "python",
   "pygments_lexer": "ipython3",
   "version": "3.7.3"
  }
 },
 "nbformat": 4,
 "nbformat_minor": 2
}
