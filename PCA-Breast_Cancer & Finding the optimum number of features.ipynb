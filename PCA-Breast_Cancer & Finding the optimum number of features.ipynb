{
 "cells": [
  {
   "cell_type": "code",
   "execution_count": 12,
   "metadata": {},
   "outputs": [],
   "source": [
    "from sklearn import datasets\n",
    "import numpy as np\n",
    "from sklearn.linear_model import LogisticRegression\n",
    "from sklearn.decomposition import PCA\n",
    "from sklearn import model_selection\n",
    "from sklearn.preprocessing import StandardScaler\n",
    "import time"
   ]
  },
  {
   "cell_type": "code",
   "execution_count": 3,
   "metadata": {},
   "outputs": [],
   "source": [
    "breast_cancer=datasets.load_breast_cancer()"
   ]
  },
  {
   "cell_type": "code",
   "execution_count": 4,
   "metadata": {},
   "outputs": [],
   "source": [
    "X=breast_cancer.data\n",
    "Y=breast_cancer.target\n",
    "scaler=StandardScaler() # Feature Scaling\n",
    "X=scaler.fit_transform(X)"
   ]
  },
  {
   "cell_type": "code",
   "execution_count": 5,
   "metadata": {},
   "outputs": [],
   "source": [
    "X_Train,X_Test,Y_Train,Y_Test=model_selection.train_test_split(X,Y)"
   ]
  },
  {
   "cell_type": "code",
   "execution_count": 6,
   "metadata": {},
   "outputs": [
    {
     "data": {
      "text/plain": [
       "(426, 30)"
      ]
     },
     "execution_count": 6,
     "metadata": {},
     "output_type": "execute_result"
    }
   ],
   "source": [
    "X_Train.shape"
   ]
  },
  {
   "cell_type": "code",
   "execution_count": 62,
   "metadata": {},
   "outputs": [
    {
     "data": {
      "text/plain": [
       "10"
      ]
     },
     "execution_count": 62,
     "metadata": {},
     "output_type": "execute_result"
    }
   ],
   "source": [
    "X_Train_T=X_Train.T\n",
    "cov=np.cov(X_Train_T)\n",
    "cov.shape\n",
    "eigen_val,eigen_vectors=np.linalg.eig(cov)\n",
    "eigen_val_list=[]\n",
    "for i in range(len(eigen_val)):\n",
    "    eigen_val_list.append(eigen_val[i])\n",
    "eigen_val_list.sort(reverse=True)\n",
    "eigen_val\n",
    "total_var=eigen_val.sum()\n",
    "var_wanted=0.95*total_var\n",
    "var_current=0\n",
    "comp_optimal=0\n",
    "i=0\n",
    "while(var_current<var_wanted):\n",
    "    var_current+=eigen_val_list[i]\n",
    "    i+=1\n",
    "    comp_optimal+=1\n",
    "comp_optimal"
   ]
  },
  {
   "cell_type": "code",
   "execution_count": 64,
   "metadata": {},
   "outputs": [],
   "source": [
    "pca=PCA(n_components=comp_optimal)\n",
    "X_Train_pca=pca.fit_transform(X_Train)\n",
    "X_Test_pca=pca.transform(X_Test) # We just need to do the transform function in case of test because we have already\n",
    "                                 # worked on finding the best 15 features and have find their corresponding vectors"
   ]
  },
  {
   "cell_type": "code",
   "execution_count": 63,
   "metadata": {},
   "outputs": [
    {
     "name": "stdout",
     "output_type": "stream",
     "text": [
      "1.0\n",
      "0.0039899349212646484\n"
     ]
    },
    {
     "name": "stderr",
     "output_type": "stream",
     "text": [
      "C:\\Users\\Dell\\Anaconda3\\lib\\site-packages\\sklearn\\linear_model\\logistic.py:433: FutureWarning: Default solver will be changed to 'lbfgs' in 0.22. Specify a solver to silence this warning.\n",
      "  FutureWarning)\n"
     ]
    }
   ],
   "source": [
    "clf=LogisticRegression()\n",
    "start=time.time()\n",
    "clf.fit(X_Train,Y_Train)\n",
    "end=time.time()\n",
    "print(clf.score(X_Test,Y_Test))\n",
    "print(end-start)"
   ]
  },
  {
   "cell_type": "code",
   "execution_count": 65,
   "metadata": {},
   "outputs": [
    {
     "name": "stdout",
     "output_type": "stream",
     "text": [
      "0.986013986013986\n",
      "0.00299072265625\n"
     ]
    },
    {
     "name": "stderr",
     "output_type": "stream",
     "text": [
      "C:\\Users\\Dell\\Anaconda3\\lib\\site-packages\\sklearn\\linear_model\\logistic.py:433: FutureWarning: Default solver will be changed to 'lbfgs' in 0.22. Specify a solver to silence this warning.\n",
      "  FutureWarning)\n"
     ]
    }
   ],
   "source": [
    "clf1=LogisticRegression()\n",
    "start=time.time()\n",
    "clf.fit(X_Train_pca,Y_Train)\n",
    "end=time.time()\n",
    "print(clf.score(X_Test_pca,Y_Test))\n",
    "print(end-start)"
   ]
  },
  {
   "cell_type": "code",
   "execution_count": 66,
   "metadata": {},
   "outputs": [],
   "source": [
    "# Ideally what should happen is that in pca our accuracy should decrease since we our losing info \n",
    "# and our training time should decrease since we have reduced our features\n",
    "# Time might vary due to other activities going on the computer"
   ]
  },
  {
   "cell_type": "code",
   "execution_count": null,
   "metadata": {},
   "outputs": [],
   "source": []
  }
 ],
 "metadata": {
  "kernelspec": {
   "display_name": "Python 3",
   "language": "python",
   "name": "python3"
  },
  "language_info": {
   "codemirror_mode": {
    "name": "ipython",
    "version": 3
   },
   "file_extension": ".py",
   "mimetype": "text/x-python",
   "name": "python",
   "nbconvert_exporter": "python",
   "pygments_lexer": "ipython3",
   "version": "3.7.3"
  }
 },
 "nbformat": 4,
 "nbformat_minor": 2
}
